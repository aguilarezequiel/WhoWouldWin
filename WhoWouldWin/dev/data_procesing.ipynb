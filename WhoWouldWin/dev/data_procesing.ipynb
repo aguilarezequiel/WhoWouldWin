{
 "cells": [
  {
   "cell_type": "markdown",
   "metadata": {},
   "source": [
    "# Preprocesamiento de Datos - WhoWouldWin Dataset\n",
    "\n",
    "Este notebook prepara el dataset de debates hipotéticos para entrenamiento de un modelo seq2seq.\n",
    "\n",
    "**Objetivo**: Partir desde `data/whowouldwin_dataset.json` y crear datasets listos para entrenamiento"
   ]
  },
  {
   "cell_type": "code",
   "execution_count": 71,
   "metadata": {},
   "outputs": [
    {
     "name": "stdout",
     "output_type": "stream",
     "text": [
      "Librerías importadas correctamente\n"
     ]
    }
   ],
   "source": [
    "# Importación de librerías necesarias\n",
    "import json\n",
    "import pandas as pd\n",
    "import numpy as np\n",
    "import re\n",
    "import torch\n",
    "from torch.utils.data import Dataset, DataLoader\n",
    "from transformers import T5Tokenizer, AutoTokenizer\n",
    "import matplotlib.pyplot as plt\n",
    "import seaborn as sns\n",
    "from sklearn.model_selection import train_test_split\n",
    "import warnings\n",
    "warnings.filterwarnings('ignore')\n",
    "\n",
    "# Configuración de reproducibilidad\n",
    "RANDOM_SEED = 42\n",
    "np.random.seed(RANDOM_SEED)\n",
    "torch.manual_seed(RANDOM_SEED)\n",
    "\n",
    "print(\"Librerías importadas correctamente\")"
   ]
  },
  {
   "cell_type": "markdown",
   "metadata": {},
   "source": [
    "## 1. Carga del Dataset"
   ]
  },
  {
   "cell_type": "code",
   "execution_count": 72,
   "metadata": {},
   "outputs": [
    {
     "name": "stdout",
     "output_type": "stream",
     "text": [
      "Dataset cargado exitosamente: 9475 ejemplos\n",
      "\n",
      "Forma del DataFrame: (9475, 2)\n",
      "Columnas: ['input', 'output']\n"
     ]
    },
    {
     "data": {
      "text/html": [
       "<div>\n",
       "<style scoped>\n",
       "    .dataframe tbody tr th:only-of-type {\n",
       "        vertical-align: middle;\n",
       "    }\n",
       "\n",
       "    .dataframe tbody tr th {\n",
       "        vertical-align: top;\n",
       "    }\n",
       "\n",
       "    .dataframe thead th {\n",
       "        text-align: right;\n",
       "    }\n",
       "</style>\n",
       "<table border=\"1\" class=\"dataframe\">\n",
       "  <thead>\n",
       "    <tr style=\"text-align: right;\">\n",
       "      <th></th>\n",
       "      <th>input</th>\n",
       "      <th>output</th>\n",
       "    </tr>\n",
       "  </thead>\n",
       "  <tbody>\n",
       "    <tr>\n",
       "      <th>0</th>\n",
       "      <td>The penguins of magadascar have 72 hours and t...</td>\n",
       "      <td>They have the entire military budget just to c...</td>\n",
       "    </tr>\n",
       "    <tr>\n",
       "      <th>1</th>\n",
       "      <td>The penguins of magadascar have 72 hours and t...</td>\n",
       "      <td>Given the fact that we can have Kowalski on an...</td>\n",
       "    </tr>\n",
       "    <tr>\n",
       "      <th>2</th>\n",
       "      <td>The penguins of magadascar have 72 hours and t...</td>\n",
       "      <td>Ah good twist. If they had to kill him and thi...</td>\n",
       "    </tr>\n",
       "    <tr>\n",
       "      <th>3</th>\n",
       "      <td>The penguins of magadascar have 72 hours and t...</td>\n",
       "      <td>“They also cant be detected as Osama Bin Laden...</td>\n",
       "    </tr>\n",
       "    <tr>\n",
       "      <th>4</th>\n",
       "      <td>The penguins of magadascar have 72 hours and t...</td>\n",
       "      <td>This would make a great writing prompt. Permis...</td>\n",
       "    </tr>\n",
       "  </tbody>\n",
       "</table>\n",
       "</div>"
      ],
      "text/plain": [
       "                                               input  \\\n",
       "0  The penguins of magadascar have 72 hours and t...   \n",
       "1  The penguins of magadascar have 72 hours and t...   \n",
       "2  The penguins of magadascar have 72 hours and t...   \n",
       "3  The penguins of magadascar have 72 hours and t...   \n",
       "4  The penguins of magadascar have 72 hours and t...   \n",
       "\n",
       "                                              output  \n",
       "0  They have the entire military budget just to c...  \n",
       "1  Given the fact that we can have Kowalski on an...  \n",
       "2  Ah good twist. If they had to kill him and thi...  \n",
       "3  “They also cant be detected as Osama Bin Laden...  \n",
       "4  This would make a great writing prompt. Permis...  "
      ]
     },
     "execution_count": 72,
     "metadata": {},
     "output_type": "execute_result"
    }
   ],
   "source": [
    "# Cargar el dataset JSON\n",
    "def load_dataset(file_path):\n",
    "    \"\"\"Carga el dataset desde archivo JSON\"\"\"\n",
    "    try:\n",
    "        with open(file_path, 'r', encoding='utf-8') as f:\n",
    "            data = json.load(f)\n",
    "        print(f\"Dataset cargado exitosamente: {len(data)} ejemplos\")\n",
    "        return data\n",
    "    except FileNotFoundError:\n",
    "        print(f\"Error: No se encontró el archivo {file_path}\")\n",
    "        return None\n",
    "    except Exception as e:\n",
    "        print(f\"Error al cargar el dataset: {e}\")\n",
    "        return None\n",
    "\n",
    "# Cargar datos\n",
    "raw_data = load_dataset('data/whowouldwin_dataset.json')\n",
    "\n",
    "# Convertir a DataFrame\n",
    "df = pd.DataFrame(raw_data)\n",
    "print(f\"\\nForma del DataFrame: {df.shape}\")\n",
    "print(f\"Columnas: {df.columns.tolist()}\")\n",
    "df.head()"
   ]
  },
  {
   "cell_type": "markdown",
   "metadata": {},
   "source": [
    "## 2. Análisis Exploratorio Básico"
   ]
  },
  {
   "cell_type": "code",
   "execution_count": 73,
   "metadata": {},
   "outputs": [
    {
     "name": "stdout",
     "output_type": "stream",
     "text": [
      "Estadísticas de longitud de caracteres:\n",
      "       input_length  output_length\n",
      "count   9475.000000    9475.000000\n",
      "mean     714.357889     426.814881\n",
      "std     1102.894663     610.209914\n",
      "min       34.000000      31.000000\n",
      "25%      307.000000     115.000000\n",
      "50%      495.000000     233.000000\n",
      "75%      809.000000     489.000000\n",
      "max    27062.000000    9706.000000\n",
      "\n",
      "Estadísticas de longitud en palabras:\n",
      "       input_words  output_words\n",
      "count  9475.000000   9475.000000\n",
      "mean    125.915884     75.847810\n",
      "std     189.253287    107.034913\n",
      "min       7.000000      3.000000\n",
      "25%      55.000000     21.000000\n",
      "50%      87.000000     42.000000\n",
      "75%     143.000000     88.000000\n",
      "max    4595.000000   1683.000000\n"
     ]
    }
   ],
   "source": [
    "# Análisis de longitudes de texto\n",
    "df['input_length'] = df['input'].apply(len)\n",
    "df['output_length'] = df['output'].apply(len)\n",
    "df['input_words'] = df['input'].apply(lambda x: len(x.split()))\n",
    "df['output_words'] = df['output'].apply(lambda x: len(x.split()))\n",
    "\n",
    "# Estadísticas descriptivas\n",
    "print(\"Estadísticas de longitud de caracteres:\")\n",
    "print(df[['input_length', 'output_length']].describe())\n",
    "print(\"\\nEstadísticas de longitud en palabras:\")\n",
    "print(df[['input_words', 'output_words']].describe())"
   ]
  },
  {
   "cell_type": "code",
   "execution_count": 75,
   "metadata": {},
   "outputs": [
    {
     "data": {
      "image/png": "[encoded data removed]",
      "text/plain": [
       "<Figure size 1200x800 with 4 Axes>"
      ]
     },
     "metadata": {},
     "output_type": "display_data"
    }
   ],
   "source": [
    "# Visualización de distribuciones\n",
    "fig, axes = plt.subplots(2, 2, figsize=(12, 8))\n",
    "\n",
    "# Distribución de longitudes de input\n",
    "axes[0, 0].hist(df['input_length'], bins=50, alpha=0.7, color='blue')\n",
    "axes[0, 0].set_title('Distribución de longitud de inputs (caracteres)')\n",
    "axes[0, 0].set_xlabel('Longitud')\n",
    "axes[0, 0].set_ylabel('Frecuencia')\n",
    "\n",
    "# Distribución de longitudes de output\n",
    "axes[0, 1].hist(df['output_length'], bins=50, alpha=0.7, color='green')\n",
    "axes[0, 1].set_title('Distribución de longitud de outputs (caracteres)')\n",
    "axes[0, 1].set_xlabel('Longitud')\n",
    "axes[0, 1].set_ylabel('Frecuencia')\n",
    "\n",
    "# Distribución de palabras en input\n",
    "axes[1, 0].hist(df['input_words'], bins=50, alpha=0.7, color='red')\n",
    "axes[1, 0].set_title('Distribución de palabras en inputs')\n",
    "axes[1, 0].set_xlabel('Número de palabras')\n",
    "axes[1, 0].set_ylabel('Frecuencia')\n",
    "\n",
    "# Distribución de palabras en output\n",
    "axes[1, 1].hist(df['output_words'], bins=50, alpha=0.7, color='purple')\n",
    "axes[1, 1].set_title('Distribución de palabras en outputs')\n",
    "axes[1, 1].set_xlabel('Número de palabras')\n",
    "axes[1, 1].set_ylabel('Frecuencia')\n",
    "\n",
    "plt.tight_layout()\n",
    "plt.show()"
   ]
  },
  {
   "cell_type": "markdown",
   "metadata": {},
   "source": [
    "## 3. Limpieza de Texto"
   ]
  },
  {
   "cell_type": "code",
   "execution_count": 78,
   "metadata": {},
   "outputs": [
    {
     "name": "stdout",
     "output_type": "stream",
     "text": [
      "Aplicando limpieza de texto...\n",
      "\n",
      "Ejemplo de limpieza:\n",
      "Original: The penguins of magadascar have 72 hours and the US military budget to find bin laden They are sent ...\n",
      "Limpio: The penguins of magadascar have 72 hours and the US military budget to find bin laden They are sent ...\n"
     ]
    }
   ],
   "source": [
    "def clean_text(text):\n",
    "    \"\"\"\n",
    "    Limpia y normaliza el texto:\n",
    "    - Elimina caracteres especiales excesivos\n",
    "    - Normaliza espacios\n",
    "    - Mantiene puntuación básica\n",
    "    \"\"\"\n",
    "    # Eliminar saltos de línea múltiples\n",
    "    text = re.sub(r'\\n+', ' ', text)\n",
    "    \n",
    "    # Eliminar espacios múltiples\n",
    "    text = re.sub(r'\\s+', ' ', text)\n",
    "    \n",
    "    # Eliminar caracteres de control\n",
    "    text = re.sub(r'[\\x00-\\x1f\\x7f-\\x9f]', '', text)\n",
    "    \n",
    "    # Normalizar comillas\n",
    "    text = text.replace('\\u201c', '\"').replace('\\u201d', '\"').replace('\\u2018', \"'\").replace('\\u2019', \"'\")\n",
    "    \n",
    "    # Eliminar espacios al inicio y final\n",
    "    text = text.strip()\n",
    "    \n",
    "    return text\n",
    "\n",
    "# Aplicar limpieza\n",
    "print(\"Aplicando limpieza de texto...\")\n",
    "df['input_clean'] = df['input'].apply(clean_text)\n",
    "df['output_clean'] = df['output'].apply(clean_text)\n",
    "\n",
    "# Mostrar ejemplos de limpieza\n",
    "print(\"\\nEjemplo de limpieza:\")\n",
    "sample_idx = 0\n",
    "print(f\"Original: {df.iloc[sample_idx]['input'][:100]}...\")\n",
    "print(f\"Limpio: {df.iloc[sample_idx]['input_clean'][:100]}...\")"
   ]
  },
  {
   "cell_type": "markdown",
   "metadata": {},
   "source": [
    "## 4. Filtrado de Ejemplos por Longitud"
   ]
  },
  {
   "cell_type": "code",
   "execution_count": 79,
   "metadata": {},
   "outputs": [
    {
     "name": "stdout",
     "output_type": "stream",
     "text": [
      "Datos antes del filtrado: 9475\n",
      "Datos después del filtrado: 9475\n",
      "Porcentaje retenido: 100.00%\n"
     ]
    }
   ],
   "source": [
    "# Calcular longitudes después de limpieza\n",
    "df['input_clean_words'] = df['input_clean'].apply(lambda x: len(x.split()))\n",
    "df['output_clean_words'] = df['output_clean'].apply(lambda x: len(x.split()))\n",
    "\n",
    "# Definir límites para filtrado (optimizado para recursos limitados)\n",
    "MIN_INPUT_WORDS = 1\n",
    "MAX_INPUT_WORDS = 10000  # Reducido para memoria limitada\n",
    "MIN_OUTPUT_WORDS = 1\n",
    "MAX_OUTPUT_WORDS = 10000  # Reducido para memoria limitada\n",
    "\n",
    "print(f\"Datos antes del filtrado: {len(df)}\")\n",
    "\n",
    "# Filtrar por longitud\n",
    "df_filtered = df[\n",
    "    (df['input_clean_words'] >= MIN_INPUT_WORDS) & \n",
    "    (df['input_clean_words'] <= MAX_INPUT_WORDS) &\n",
    "    (df['output_clean_words'] >= MIN_OUTPUT_WORDS) & \n",
    "    (df['output_clean_words'] <= MAX_OUTPUT_WORDS)\n",
    "].copy()\n",
    "\n",
    "print(f\"Datos después del filtrado: {len(df_filtered)}\")\n",
    "print(f\"Porcentaje retenido: {len(df_filtered)/len(df)*100:.2f}%\")"
   ]
  },
  {
   "cell_type": "markdown",
   "metadata": {},
   "source": [
    "## 5. Preparación para T5 - Agregar Prefijos"
   ]
  },
  {
   "cell_type": "code",
   "execution_count": 80,
   "metadata": {},
   "outputs": [
    {
     "name": "stdout",
     "output_type": "stream",
     "text": [
      "Ejemplos con prefijo:\n",
      "\n",
      "Ejemplo 1:\n",
      "Input: argumenta sobre: The penguins of magadascar have 72 hours and the US military budget to find bin lad...\n",
      "Output: They have the entire military budget just to capture Bin Laden? Okay. Wanted: Osama Bin Laden 850 bi...\n",
      "\n",
      "Ejemplo 2:\n",
      "Input: argumenta sobre: The penguins of magadascar have 72 hours and the US military budget to find bin lad...\n",
      "Output: Given the fact that we can have Kowalski on analysis and Private on recon, this is a piece of cake. ...\n",
      "\n",
      "Ejemplo 3:\n",
      "Input: argumenta sobre: The penguins of magadascar have 72 hours and the US military budget to find bin lad...\n",
      "Output: Ah good twist. If they had to kill him and this is an R rated version of the Penguins, they for sure...\n"
     ]
    }
   ],
   "source": [
    "# Agregar prefijo para tarea de generación argumentativa\n",
    "def add_prefix(text):\n",
    "    \"\"\"Agrega prefijo para la tarea de argumentación\"\"\"\n",
    "    return f\"argumenta sobre: {text}\"\n",
    "\n",
    "# Aplicar prefijo\n",
    "df_filtered['input_prefix'] = df_filtered['input_clean'].apply(add_prefix)\n",
    "\n",
    "# Mostrar ejemplos\n",
    "print(\"Ejemplos con prefijo:\")\n",
    "for i in range(3):\n",
    "    print(f\"\\nEjemplo {i+1}:\")\n",
    "    print(f\"Input: {df_filtered.iloc[i]['input_prefix'][:100]}...\")\n",
    "    print(f\"Output: {df_filtered.iloc[i]['output_clean'][:100]}...\")"
   ]
  },
  {
   "cell_type": "markdown",
   "metadata": {},
   "source": [
    "## 6. División Train/Val/Test"
   ]
  },
  {
   "cell_type": "code",
   "execution_count": 81,
   "metadata": {},
   "outputs": [
    {
     "name": "stdout",
     "output_type": "stream",
     "text": [
      "Train: 7580 ejemplos (80.0%)\n",
      "Val: 947 ejemplos (10.0%)\n",
      "Test: 948 ejemplos (10.0%)\n"
     ]
    }
   ],
   "source": [
    "# División 80/10/10\n",
    "train_df, temp_df = train_test_split(\n",
    "    df_filtered, \n",
    "    test_size=0.2, \n",
    "    random_state=RANDOM_SEED\n",
    ")\n",
    "\n",
    "val_df, test_df = train_test_split(\n",
    "    temp_df, \n",
    "    test_size=0.5, \n",
    "    random_state=RANDOM_SEED\n",
    ")\n",
    "\n",
    "print(f\"Train: {len(train_df)} ejemplos ({len(train_df)/len(df_filtered)*100:.1f}%)\")\n",
    "print(f\"Val: {len(val_df)} ejemplos ({len(val_df)/len(df_filtered)*100:.1f}%)\")\n",
    "print(f\"Test: {len(test_df)} ejemplos ({len(test_df)/len(df_filtered)*100:.1f}%)\")"
   ]
  },
  {
   "cell_type": "markdown",
   "metadata": {},
   "source": [
    "## 7. Creación de Dataset Class para PyTorch"
   ]
  },
  {
   "cell_type": "code",
   "execution_count": 83,
   "metadata": {},
   "outputs": [],
   "source": [
    "class WhoWouldWinDataset(Dataset):\n",
    "    \"\"\"Dataset personalizado para el problema de argumentación\"\"\"\n",
    "    \n",
    "    def __init__(self, dataframe, tokenizer, max_input_length=10000, max_output_length=10000):\n",
    "        self.data = dataframe\n",
    "        self.tokenizer = tokenizer\n",
    "        self.max_input_length = max_input_length\n",
    "        self.max_output_length = max_output_length\n",
    "        \n",
    "    def __len__(self):\n",
    "        return len(self.data)\n",
    "    \n",
    "    def __getitem__(self, idx):\n",
    "        row = self.data.iloc[idx]\n",
    "        \n",
    "        # Tokenizar input\n",
    "        input_encoding = self.tokenizer(\n",
    "            row['input_prefix'],\n",
    "            max_length=self.max_input_length,\n",
    "            padding='max_length',\n",
    "            truncation=True,\n",
    "            return_tensors='pt'\n",
    "        )\n",
    "        \n",
    "        # Tokenizar output (target)\n",
    "        target_encoding = self.tokenizer(\n",
    "            row['output_clean'],\n",
    "            max_length=self.max_output_length,\n",
    "            padding='max_length',\n",
    "            truncation=True,\n",
    "            return_tensors='pt'\n",
    "        )\n",
    "        \n",
    "        # Preparar labels (reemplazar padding con -100)\n",
    "        labels = target_encoding['input_ids']\n",
    "        labels[labels == self.tokenizer.pad_token_id] = -100\n",
    "        \n",
    "        return {\n",
    "            'input_ids': input_encoding['input_ids'].squeeze(),\n",
    "            'attention_mask': input_encoding['attention_mask'].squeeze(),\n",
    "            'labels': labels.squeeze()\n",
    "        }"
   ]
  },
  {
   "cell_type": "markdown",
   "metadata": {},
   "source": [
    "## 8. Inicialización del Tokenizer y Creación de DataLoaders"
   ]
  },
  {
   "cell_type": "code",
   "execution_count": 85,
   "metadata": {},
   "outputs": [
    {
     "name": "stdout",
     "output_type": "stream",
     "text": [
      "Cargando tokenizer T5-small...\n",
      "\n",
      "Datasets creados:\n",
      "Train: 7580 ejemplos\n",
      "Val: 947 ejemplos\n",
      "Test: 948 ejemplos\n"
     ]
    }
   ],
   "source": [
    "# Inicializar tokenizer T5\n",
    "print(\"Cargando tokenizer T5-small...\")\n",
    "tokenizer = AutoTokenizer.from_pretrained('t5-small')\n",
    "\n",
    "# Parámetros de longitud (optimizados para recursos limitados)\n",
    "MAX_INPUT_LENGTH = 10000  # Reducido de 512\n",
    "MAX_OUTPUT_LENGTH = 10000  # Reducido de 256\n",
    "\n",
    "# Crear datasets\n",
    "train_dataset = WhoWouldWinDataset(train_df, tokenizer, MAX_INPUT_LENGTH, MAX_OUTPUT_LENGTH)\n",
    "val_dataset = WhoWouldWinDataset(val_df, tokenizer, MAX_INPUT_LENGTH, MAX_OUTPUT_LENGTH)\n",
    "test_dataset = WhoWouldWinDataset(test_df, tokenizer, MAX_INPUT_LENGTH, MAX_OUTPUT_LENGTH)\n",
    "\n",
    "print(f\"\\nDatasets creados:\")\n",
    "print(f\"Train: {len(train_dataset)} ejemplos\")\n",
    "print(f\"Val: {len(val_dataset)} ejemplos\")\n",
    "print(f\"Test: {len(test_dataset)} ejemplos\")"
   ]
  },
  {
   "cell_type": "code",
   "execution_count": 86,
   "metadata": {},
   "outputs": [
    {
     "name": "stdout",
     "output_type": "stream",
     "text": [
      "DataLoaders creados con batch_size=4\n",
      "Batches en train: 1895\n",
      "Batches en val: 237\n",
      "Batches en test: 237\n"
     ]
    }
   ],
   "source": [
    "# Crear DataLoaders (batch size pequeño para memoria limitada)\n",
    "BATCH_SIZE = 4  # Muy pequeño para recursos limitados\n",
    "\n",
    "train_loader = DataLoader(\n",
    "    train_dataset, \n",
    "    batch_size=BATCH_SIZE, \n",
    "    shuffle=True,\n",
    "    num_workers=0  # Evitar problemas de memoria\n",
    ")\n",
    "\n",
    "val_loader = DataLoader(\n",
    "    val_dataset, \n",
    "    batch_size=BATCH_SIZE, \n",
    "    shuffle=False,\n",
    "    num_workers=0\n",
    ")\n",
    "\n",
    "test_loader = DataLoader(\n",
    "    test_dataset, \n",
    "    batch_size=BATCH_SIZE, \n",
    "    shuffle=False,\n",
    "    num_workers=0\n",
    ")\n",
    "\n",
    "print(f\"DataLoaders creados con batch_size={BATCH_SIZE}\")\n",
    "print(f\"Batches en train: {len(train_loader)}\")\n",
    "print(f\"Batches en val: {len(val_loader)}\")\n",
    "print(f\"Batches en test: {len(test_loader)}\")"
   ]
  },
  {
   "cell_type": "markdown",
   "metadata": {},
   "source": [
    "## 9. Verificación de un Batch de Ejemplo"
   ]
  },
  {
   "cell_type": "code",
   "execution_count": 88,
   "metadata": {},
   "outputs": [
    {
     "name": "stdout",
     "output_type": "stream",
     "text": [
      "Estructura del batch:\n",
      "input_ids: shape torch.Size([4, 10000])\n",
      "attention_mask: shape torch.Size([4, 10000])\n",
      "labels: shape torch.Size([4, 10000])\n",
      "\n",
      "Input: argumenta sobre: The Phantom Menace Palpatine vs. Revenge of the Sith Obi-Wan? Who wins in a combina...\n",
      "Output: Palpatine killed Plageuis around the end of TPM, so he was still extremely strong. I also don't see ...\n"
     ]
    }
   ],
   "source": [
    "# Versión corta\n",
    "sample_batch = next(iter(train_loader))\n",
    "\n",
    "print(\"Estructura del batch:\")\n",
    "for key, value in sample_batch.items():\n",
    "    print(f\"{key}: shape {value.shape}\")\n",
    "\n",
    "# Decodificar ejemplos\n",
    "sample_input = tokenizer.decode(sample_batch['input_ids'][0], skip_special_tokens=True)\n",
    "# Filtrar -100 de las labels antes de decodificar\n",
    "valid_labels = sample_batch['labels'][0][sample_batch['labels'][0] != -100]\n",
    "sample_output = tokenizer.decode(valid_labels, skip_special_tokens=True)\n",
    "\n",
    "print(f\"\\nInput: {sample_input[:100]}...\")\n",
    "print(f\"Output: {sample_output[:100]}...\")"
   ]
  },
  {
   "cell_type": "markdown",
   "metadata": {},
   "source": [
    "## 10. Guardado de Datasets Procesados"
   ]
  },
  {
   "cell_type": "code",
   "execution_count": 90,
   "metadata": {},
   "outputs": [
    {
     "name": "stdout",
     "output_type": "stream",
     "text": [
      "Datasets guardados:\n",
      "- data/train_data.csv\n",
      "- data/val_data.csv\n",
      "- data/test_data.csv\n"
     ]
    }
   ],
   "source": [
    "# Preparar DataFrames para guardar\n",
    "columns_to_save = ['input_prefix', 'output_clean']\n",
    "\n",
    "train_save = train_df[columns_to_save].copy()\n",
    "val_save = val_df[columns_to_save].copy()\n",
    "test_save = test_df[columns_to_save].copy()\n",
    "\n",
    "# Renombrar columnas para claridad\n",
    "train_save.columns = ['input', 'output']\n",
    "val_save.columns = ['input', 'output']\n",
    "test_save.columns = ['input', 'output']\n",
    "\n",
    "# Guardar como CSV\n",
    "train_save.to_csv('data/train_data.csv', index=False)\n",
    "val_save.to_csv('data/val_data.csv', index=False)\n",
    "test_save.to_csv('data/test_data.csv', index=False)\n",
    "\n",
    "print(\"Datasets guardados:\")\n",
    "print(\"- data/train_data.csv\")\n",
    "print(\"- data/val_data.csv\")\n",
    "print(\"- data/test_data.csv\")"
   ]
  },
  {
   "cell_type": "code",
   "execution_count": 92,
   "metadata": {},
   "outputs": [
    {
     "name": "stdout",
     "output_type": "stream",
     "text": [
      "\n",
      "Configuración del dataset guardada en data/dataset_config.pkl\n",
      "\n",
      "Resumen final:\n",
      "tokenizer_name: t5-small\n",
      "max_input_length: 10000\n",
      "max_output_length: 10000\n",
      "batch_size: 4\n",
      "train_size: 7580\n",
      "val_size: 947\n",
      "test_size: 948\n"
     ]
    }
   ],
   "source": [
    "# Guardar también los objetos de dataset para fácil carga posterior\n",
    "import pickle\n",
    "\n",
    "dataset_config = {\n",
    "    'tokenizer_name': 't5-small',\n",
    "    'max_input_length': MAX_INPUT_LENGTH,\n",
    "    'max_output_length': MAX_OUTPUT_LENGTH,\n",
    "    'batch_size': BATCH_SIZE,\n",
    "    'train_size': len(train_df),\n",
    "    'val_size': len(val_df),\n",
    "    'test_size': len(test_df)\n",
    "}\n",
    "\n",
    "with open('data/dataset_config.pkl', 'wb') as f:\n",
    "    pickle.dump(dataset_config, f)\n",
    "\n",
    "print(\"\\nConfiguración del dataset guardada en data/dataset_config.pkl\")\n",
    "print(f\"\\nResumen final:\")\n",
    "for key, value in dataset_config.items():\n",
    "    print(f\"{key}: {value}\")"
   ]
  },
  {
   "cell_type": "markdown",
   "metadata": {},
   "source": [
    "## Resumen del Preprocesamiento\n",
    "\n",
    "- ✅ Dataset cargado y convertido a DataFrame\n",
    "- ✅ Análisis exploratorio completado\n",
    "- ✅ Texto limpiado y normalizado\n",
    "- ✅ Ejemplos filtrados por longitud para optimizar recursos\n",
    "- ✅ División train/val/test (80/10/10)\n",
    "- ✅ Dataset class personalizada creada\n",
    "- ✅ Tokenización con T5\n",
    "- ✅ DataLoaders optimizados creados\n",
    "- ✅ Datasets guardados en formato CSV\n",
    "\n",
    "**Siguiente paso**: Proceder con el entrenamiento del modelo en `model_training.ipynb`"
   ]
  }
 ],
 "metadata": {
  "kernelspec": {
   "display_name": "Python 3",
   "language": "python",
   "name": "python3"
  },
  "language_info": {
   "codemirror_mode": {
    "name": "ipython",
    "version": 3
   },
   "file_extension": ".py",
   "mimetype": "text/x-python",
   "name": "python",
   "nbconvert_exporter": "python",
   "pygments_lexer": "ipython3",
   "version": "3.13.2"
  }
 },
 "nbformat": 4,
 "nbformat_minor": 4
}
